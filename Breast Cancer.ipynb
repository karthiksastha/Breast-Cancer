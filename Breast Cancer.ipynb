{
 "cells": [
  {
   "cell_type": "code",
   "execution_count": 1,
   "metadata": {},
   "outputs": [
    {
     "name": "stdout",
     "output_type": "stream",
     "text": [
      "2.3.0\n"
     ]
    }
   ],
   "source": [
    "#Importing necessary library that will use in model building.\n",
    "\n",
    "\n",
    "import tensorflow as tf\n",
    "from tensorflow import keras\n",
    "from tensorflow.keras import Sequential\n",
    "from tensorflow.keras.layers import Flatten, Dense, Dropout, BatchNormalization\n",
    "from tensorflow.keras.layers import Conv1D, MaxPool1D\n",
    "\n",
    "from tensorflow.keras.optimizers import Adam\n",
    "\n",
    "\n",
    "print(tf.__version__)"
   ]
  },
  {
   "cell_type": "code",
   "execution_count": 2,
   "metadata": {},
   "outputs": [],
   "source": [
    "import pandas as pd\n",
    "import numpy as np\n",
    "import  seaborn as sns\n",
    "import matplotlib.pyplot as plt"
   ]
  },
  {
   "cell_type": "code",
   "execution_count": 4,
   "metadata": {},
   "outputs": [
    {
     "name": "stderr",
     "output_type": "stream",
     "text": [
      "C:\\ProgramData\\Anaconda3\\lib\\site-packages\\ipykernel_launcher.py:1: FutureWarning: pandas.util.testing is deprecated. Use the functions in the public API at pandas.testing instead.\n",
      "  \"\"\"Entry point for launching an IPython kernel.\n"
     ]
    }
   ],
   "source": [
    "import pandas.util.testing as tm"
   ]
  },
  {
   "cell_type": "code",
   "execution_count": 5,
   "metadata": {},
   "outputs": [],
   "source": [
    "from sklearn import datasets, metrics\n",
    "from sklearn.model_selection import train_test_split\n",
    "from sklearn.preprocessing import StandardScaler"
   ]
  },
  {
   "cell_type": "markdown",
   "metadata": {},
   "source": [
    "Load and return the breast cancer classification dataset. The breast cancer dataset is a classic and very easy binary classification dataset."
   ]
  },
  {
   "cell_type": "code",
   "execution_count": 6,
   "metadata": {},
   "outputs": [],
   "source": [
    "cancer = datasets.load_breast_cancer()"
   ]
  },
  {
   "cell_type": "code",
   "execution_count": 7,
   "metadata": {},
   "outputs": [
    {
     "name": "stdout",
     "output_type": "stream",
     "text": [
      ".. _breast_cancer_dataset:\n",
      "\n",
      "Breast cancer wisconsin (diagnostic) dataset\n",
      "--------------------------------------------\n",
      "\n",
      "**Data Set Characteristics:**\n",
      "\n",
      "    :Number of Instances: 569\n",
      "\n",
      "    :Number of Attributes: 30 numeric, predictive attributes and the class\n",
      "\n",
      "    :Attribute Information:\n",
      "        - radius (mean of distances from center to points on the perimeter)\n",
      "        - texture (standard deviation of gray-scale values)\n",
      "        - perimeter\n",
      "        - area\n",
      "        - smoothness (local variation in radius lengths)\n",
      "        - compactness (perimeter^2 / area - 1.0)\n",
      "        - concavity (severity of concave portions of the contour)\n",
      "        - concave points (number of concave portions of the contour)\n",
      "        - symmetry \n",
      "        - fractal dimension (\"coastline approximation\" - 1)\n",
      "\n",
      "        The mean, standard error, and \"worst\" or largest (mean of the three\n",
      "        largest values) of these features were computed for each image,\n",
      "        resulting in 30 features.  For instance, field 3 is Mean Radius, field\n",
      "        13 is Radius SE, field 23 is Worst Radius.\n",
      "\n",
      "        - class:\n",
      "                - WDBC-Malignant\n",
      "                - WDBC-Benign\n",
      "\n",
      "    :Summary Statistics:\n",
      "\n",
      "    ===================================== ====== ======\n",
      "                                           Min    Max\n",
      "    ===================================== ====== ======\n",
      "    radius (mean):                        6.981  28.11\n",
      "    texture (mean):                       9.71   39.28\n",
      "    perimeter (mean):                     43.79  188.5\n",
      "    area (mean):                          143.5  2501.0\n",
      "    smoothness (mean):                    0.053  0.163\n",
      "    compactness (mean):                   0.019  0.345\n",
      "    concavity (mean):                     0.0    0.427\n",
      "    concave points (mean):                0.0    0.201\n",
      "    symmetry (mean):                      0.106  0.304\n",
      "    fractal dimension (mean):             0.05   0.097\n",
      "    radius (standard error):              0.112  2.873\n",
      "    texture (standard error):             0.36   4.885\n",
      "    perimeter (standard error):           0.757  21.98\n",
      "    area (standard error):                6.802  542.2\n",
      "    smoothness (standard error):          0.002  0.031\n",
      "    compactness (standard error):         0.002  0.135\n",
      "    concavity (standard error):           0.0    0.396\n",
      "    concave points (standard error):      0.0    0.053\n",
      "    symmetry (standard error):            0.008  0.079\n",
      "    fractal dimension (standard error):   0.001  0.03\n",
      "    radius (worst):                       7.93   36.04\n",
      "    texture (worst):                      12.02  49.54\n",
      "    perimeter (worst):                    50.41  251.2\n",
      "    area (worst):                         185.2  4254.0\n",
      "    smoothness (worst):                   0.071  0.223\n",
      "    compactness (worst):                  0.027  1.058\n",
      "    concavity (worst):                    0.0    1.252\n",
      "    concave points (worst):               0.0    0.291\n",
      "    symmetry (worst):                     0.156  0.664\n",
      "    fractal dimension (worst):            0.055  0.208\n",
      "    ===================================== ====== ======\n",
      "\n",
      "    :Missing Attribute Values: None\n",
      "\n",
      "    :Class Distribution: 212 - Malignant, 357 - Benign\n",
      "\n",
      "    :Creator:  Dr. William H. Wolberg, W. Nick Street, Olvi L. Mangasarian\n",
      "\n",
      "    :Donor: Nick Street\n",
      "\n",
      "    :Date: November, 1995\n",
      "\n",
      "This is a copy of UCI ML Breast Cancer Wisconsin (Diagnostic) datasets.\n",
      "https://goo.gl/U2Uwz2\n",
      "\n",
      "Features are computed from a digitized image of a fine needle\n",
      "aspirate (FNA) of a breast mass.  They describe\n",
      "characteristics of the cell nuclei present in the image.\n",
      "\n",
      "Separating plane described above was obtained using\n",
      "Multisurface Method-Tree (MSM-T) [K. P. Bennett, \"Decision Tree\n",
      "Construction Via Linear Programming.\" Proceedings of the 4th\n",
      "Midwest Artificial Intelligence and Cognitive Science Society,\n",
      "pp. 97-101, 1992], a classification method which uses linear\n",
      "programming to construct a decision tree.  Relevant features\n",
      "were selected using an exhaustive search in the space of 1-4\n",
      "features and 1-3 separating planes.\n",
      "\n",
      "The actual linear program used to obtain the separating plane\n",
      "in the 3-dimensional space is that described in:\n",
      "[K. P. Bennett and O. L. Mangasarian: \"Robust Linear\n",
      "Programming Discrimination of Two Linearly Inseparable Sets\",\n",
      "Optimization Methods and Software 1, 1992, 23-34].\n",
      "\n",
      "This database is also available through the UW CS ftp server:\n",
      "\n",
      "ftp ftp.cs.wisc.edu\n",
      "cd math-prog/cpo-dataset/machine-learn/WDBC/\n",
      "\n",
      ".. topic:: References\n",
      "\n",
      "   - W.N. Street, W.H. Wolberg and O.L. Mangasarian. Nuclear feature extraction \n",
      "     for breast tumor diagnosis. IS&T/SPIE 1993 International Symposium on \n",
      "     Electronic Imaging: Science and Technology, volume 1905, pages 861-870,\n",
      "     San Jose, CA, 1993.\n",
      "   - O.L. Mangasarian, W.N. Street and W.H. Wolberg. Breast cancer diagnosis and \n",
      "     prognosis via linear programming. Operations Research, 43(4), pages 570-577, \n",
      "     July-August 1995.\n",
      "   - W.H. Wolberg, W.N. Street, and O.L. Mangasarian. Machine learning techniques\n",
      "     to diagnose breast cancer from fine-needle aspirates. Cancer Letters 77 (1994) \n",
      "     163-171.\n"
     ]
    }
   ],
   "source": [
    "print(cancer.DESCR)"
   ]
  },
  {
   "cell_type": "markdown",
   "metadata": {},
   "source": [
    "We will be using pandas DataFrame to present all our data. We will create a dataframe with our cancer data and target data. It would help us to store all the inputs and outputs in one dataframe."
   ]
  },
  {
   "cell_type": "code",
   "execution_count": 8,
   "metadata": {},
   "outputs": [
    {
     "data": {
      "text/html": [
       "<div>\n",
       "<style scoped>\n",
       "    .dataframe tbody tr th:only-of-type {\n",
       "        vertical-align: middle;\n",
       "    }\n",
       "\n",
       "    .dataframe tbody tr th {\n",
       "        vertical-align: top;\n",
       "    }\n",
       "\n",
       "    .dataframe thead th {\n",
       "        text-align: right;\n",
       "    }\n",
       "</style>\n",
       "<table border=\"1\" class=\"dataframe\">\n",
       "  <thead>\n",
       "    <tr style=\"text-align: right;\">\n",
       "      <th></th>\n",
       "      <th>mean radius</th>\n",
       "      <th>mean texture</th>\n",
       "      <th>mean perimeter</th>\n",
       "      <th>mean area</th>\n",
       "      <th>mean smoothness</th>\n",
       "      <th>mean compactness</th>\n",
       "      <th>mean concavity</th>\n",
       "      <th>mean concave points</th>\n",
       "      <th>mean symmetry</th>\n",
       "      <th>mean fractal dimension</th>\n",
       "      <th>...</th>\n",
       "      <th>worst radius</th>\n",
       "      <th>worst texture</th>\n",
       "      <th>worst perimeter</th>\n",
       "      <th>worst area</th>\n",
       "      <th>worst smoothness</th>\n",
       "      <th>worst compactness</th>\n",
       "      <th>worst concavity</th>\n",
       "      <th>worst concave points</th>\n",
       "      <th>worst symmetry</th>\n",
       "      <th>worst fractal dimension</th>\n",
       "    </tr>\n",
       "  </thead>\n",
       "  <tbody>\n",
       "    <tr>\n",
       "      <th>0</th>\n",
       "      <td>17.99</td>\n",
       "      <td>10.38</td>\n",
       "      <td>122.80</td>\n",
       "      <td>1001.0</td>\n",
       "      <td>0.11840</td>\n",
       "      <td>0.27760</td>\n",
       "      <td>0.3001</td>\n",
       "      <td>0.14710</td>\n",
       "      <td>0.2419</td>\n",
       "      <td>0.07871</td>\n",
       "      <td>...</td>\n",
       "      <td>25.38</td>\n",
       "      <td>17.33</td>\n",
       "      <td>184.60</td>\n",
       "      <td>2019.0</td>\n",
       "      <td>0.1622</td>\n",
       "      <td>0.6656</td>\n",
       "      <td>0.7119</td>\n",
       "      <td>0.2654</td>\n",
       "      <td>0.4601</td>\n",
       "      <td>0.11890</td>\n",
       "    </tr>\n",
       "    <tr>\n",
       "      <th>1</th>\n",
       "      <td>20.57</td>\n",
       "      <td>17.77</td>\n",
       "      <td>132.90</td>\n",
       "      <td>1326.0</td>\n",
       "      <td>0.08474</td>\n",
       "      <td>0.07864</td>\n",
       "      <td>0.0869</td>\n",
       "      <td>0.07017</td>\n",
       "      <td>0.1812</td>\n",
       "      <td>0.05667</td>\n",
       "      <td>...</td>\n",
       "      <td>24.99</td>\n",
       "      <td>23.41</td>\n",
       "      <td>158.80</td>\n",
       "      <td>1956.0</td>\n",
       "      <td>0.1238</td>\n",
       "      <td>0.1866</td>\n",
       "      <td>0.2416</td>\n",
       "      <td>0.1860</td>\n",
       "      <td>0.2750</td>\n",
       "      <td>0.08902</td>\n",
       "    </tr>\n",
       "    <tr>\n",
       "      <th>2</th>\n",
       "      <td>19.69</td>\n",
       "      <td>21.25</td>\n",
       "      <td>130.00</td>\n",
       "      <td>1203.0</td>\n",
       "      <td>0.10960</td>\n",
       "      <td>0.15990</td>\n",
       "      <td>0.1974</td>\n",
       "      <td>0.12790</td>\n",
       "      <td>0.2069</td>\n",
       "      <td>0.05999</td>\n",
       "      <td>...</td>\n",
       "      <td>23.57</td>\n",
       "      <td>25.53</td>\n",
       "      <td>152.50</td>\n",
       "      <td>1709.0</td>\n",
       "      <td>0.1444</td>\n",
       "      <td>0.4245</td>\n",
       "      <td>0.4504</td>\n",
       "      <td>0.2430</td>\n",
       "      <td>0.3613</td>\n",
       "      <td>0.08758</td>\n",
       "    </tr>\n",
       "    <tr>\n",
       "      <th>3</th>\n",
       "      <td>11.42</td>\n",
       "      <td>20.38</td>\n",
       "      <td>77.58</td>\n",
       "      <td>386.1</td>\n",
       "      <td>0.14250</td>\n",
       "      <td>0.28390</td>\n",
       "      <td>0.2414</td>\n",
       "      <td>0.10520</td>\n",
       "      <td>0.2597</td>\n",
       "      <td>0.09744</td>\n",
       "      <td>...</td>\n",
       "      <td>14.91</td>\n",
       "      <td>26.50</td>\n",
       "      <td>98.87</td>\n",
       "      <td>567.7</td>\n",
       "      <td>0.2098</td>\n",
       "      <td>0.8663</td>\n",
       "      <td>0.6869</td>\n",
       "      <td>0.2575</td>\n",
       "      <td>0.6638</td>\n",
       "      <td>0.17300</td>\n",
       "    </tr>\n",
       "    <tr>\n",
       "      <th>4</th>\n",
       "      <td>20.29</td>\n",
       "      <td>14.34</td>\n",
       "      <td>135.10</td>\n",
       "      <td>1297.0</td>\n",
       "      <td>0.10030</td>\n",
       "      <td>0.13280</td>\n",
       "      <td>0.1980</td>\n",
       "      <td>0.10430</td>\n",
       "      <td>0.1809</td>\n",
       "      <td>0.05883</td>\n",
       "      <td>...</td>\n",
       "      <td>22.54</td>\n",
       "      <td>16.67</td>\n",
       "      <td>152.20</td>\n",
       "      <td>1575.0</td>\n",
       "      <td>0.1374</td>\n",
       "      <td>0.2050</td>\n",
       "      <td>0.4000</td>\n",
       "      <td>0.1625</td>\n",
       "      <td>0.2364</td>\n",
       "      <td>0.07678</td>\n",
       "    </tr>\n",
       "  </tbody>\n",
       "</table>\n",
       "<p>5 rows × 30 columns</p>\n",
       "</div>"
      ],
      "text/plain": [
       "   mean radius  mean texture  mean perimeter  mean area  mean smoothness  \\\n",
       "0        17.99         10.38          122.80     1001.0          0.11840   \n",
       "1        20.57         17.77          132.90     1326.0          0.08474   \n",
       "2        19.69         21.25          130.00     1203.0          0.10960   \n",
       "3        11.42         20.38           77.58      386.1          0.14250   \n",
       "4        20.29         14.34          135.10     1297.0          0.10030   \n",
       "\n",
       "   mean compactness  mean concavity  mean concave points  mean symmetry  \\\n",
       "0           0.27760          0.3001              0.14710         0.2419   \n",
       "1           0.07864          0.0869              0.07017         0.1812   \n",
       "2           0.15990          0.1974              0.12790         0.2069   \n",
       "3           0.28390          0.2414              0.10520         0.2597   \n",
       "4           0.13280          0.1980              0.10430         0.1809   \n",
       "\n",
       "   mean fractal dimension  ...  worst radius  worst texture  worst perimeter  \\\n",
       "0                 0.07871  ...         25.38          17.33           184.60   \n",
       "1                 0.05667  ...         24.99          23.41           158.80   \n",
       "2                 0.05999  ...         23.57          25.53           152.50   \n",
       "3                 0.09744  ...         14.91          26.50            98.87   \n",
       "4                 0.05883  ...         22.54          16.67           152.20   \n",
       "\n",
       "   worst area  worst smoothness  worst compactness  worst concavity  \\\n",
       "0      2019.0            0.1622             0.6656           0.7119   \n",
       "1      1956.0            0.1238             0.1866           0.2416   \n",
       "2      1709.0            0.1444             0.4245           0.4504   \n",
       "3       567.7            0.2098             0.8663           0.6869   \n",
       "4      1575.0            0.1374             0.2050           0.4000   \n",
       "\n",
       "   worst concave points  worst symmetry  worst fractal dimension  \n",
       "0                0.2654          0.4601                  0.11890  \n",
       "1                0.1860          0.2750                  0.08902  \n",
       "2                0.2430          0.3613                  0.08758  \n",
       "3                0.2575          0.6638                  0.17300  \n",
       "4                0.1625          0.2364                  0.07678  \n",
       "\n",
       "[5 rows x 30 columns]"
      ]
     },
     "execution_count": 8,
     "metadata": {},
     "output_type": "execute_result"
    }
   ],
   "source": [
    "X = pd.DataFrame(data = cancer.data, columns=cancer.feature_names)\n",
    "X.head()"
   ]
  },
  {
   "cell_type": "code",
   "execution_count": 9,
   "metadata": {},
   "outputs": [],
   "source": [
    "y = cancer.target\n"
   ]
  },
  {
   "cell_type": "code",
   "execution_count": 10,
   "metadata": {},
   "outputs": [
    {
     "data": {
      "text/plain": [
       "array([0, 0, 0, 0, 0, 0, 0, 0, 0, 0, 0, 0, 0, 0, 0, 0, 0, 0, 0, 1, 1, 1,\n",
       "       0, 0, 0, 0, 0, 0, 0, 0, 0, 0, 0, 0, 0, 0, 0, 1, 0, 0, 0, 0, 0, 0,\n",
       "       0, 0, 1, 0, 1, 1, 1, 1, 1, 0, 0, 1, 0, 0, 1, 1, 1, 1, 0, 1, 0, 0,\n",
       "       1, 1, 1, 1, 0, 1, 0, 0, 1, 0, 1, 0, 0, 1, 1, 1, 0, 0, 1, 0, 0, 0,\n",
       "       1, 1, 1, 0, 1, 1, 0, 0, 1, 1, 1, 0, 0, 1, 1, 1, 1, 0, 1, 1, 0, 1,\n",
       "       1, 1, 1, 1, 1, 1, 1, 0, 0, 0, 1, 0, 0, 1, 1, 1, 0, 0, 1, 0, 1, 0,\n",
       "       0, 1, 0, 0, 1, 1, 0, 1, 1, 0, 1, 1, 1, 1, 0, 1, 1, 1, 1, 1, 1, 1,\n",
       "       1, 1, 0, 1, 1, 1, 1, 0, 0, 1, 0, 1, 1, 0, 0, 1, 1, 0, 0, 1, 1, 1,\n",
       "       1, 0, 1, 1, 0, 0, 0, 1, 0, 1, 0, 1, 1, 1, 0, 1, 1, 0, 0, 1, 0, 0,\n",
       "       0, 0, 1, 0, 0, 0, 1, 0, 1, 0, 1, 1, 0, 1, 0, 0, 0, 0, 1, 1, 0, 0,\n",
       "       1, 1, 1, 0, 1, 1, 1, 1, 1, 0, 0, 1, 1, 0, 1, 1, 0, 0, 1, 0, 1, 1,\n",
       "       1, 1, 0, 1, 1, 1, 1, 1, 0, 1, 0, 0, 0, 0, 0, 0, 0, 0, 0, 0, 0, 0,\n",
       "       0, 0, 1, 1, 1, 1, 1, 1, 0, 1, 0, 1, 1, 0, 1, 1, 0, 1, 0, 0, 1, 1,\n",
       "       1, 1, 1, 1, 1, 1, 1, 1, 1, 1, 1, 0, 1, 1, 0, 1, 0, 1, 1, 1, 1, 1,\n",
       "       1, 1, 1, 1, 1, 1, 1, 1, 1, 0, 1, 1, 1, 0, 1, 0, 1, 1, 1, 1, 0, 0,\n",
       "       0, 1, 1, 1, 1, 0, 1, 0, 1, 0, 1, 1, 1, 0, 1, 1, 1, 1, 1, 1, 1, 0,\n",
       "       0, 0, 1, 1, 1, 1, 1, 1, 1, 1, 1, 1, 1, 0, 0, 1, 0, 0, 0, 1, 0, 0,\n",
       "       1, 1, 1, 1, 1, 0, 1, 1, 1, 1, 1, 0, 1, 1, 1, 0, 1, 1, 0, 0, 1, 1,\n",
       "       1, 1, 1, 1, 0, 1, 1, 1, 1, 1, 1, 1, 0, 1, 1, 1, 1, 1, 0, 1, 1, 0,\n",
       "       1, 1, 1, 1, 1, 1, 1, 1, 1, 1, 1, 1, 0, 1, 0, 0, 1, 0, 1, 1, 1, 1,\n",
       "       1, 0, 1, 1, 0, 1, 0, 1, 1, 0, 1, 0, 1, 1, 1, 1, 1, 1, 1, 1, 0, 0,\n",
       "       1, 1, 1, 1, 1, 1, 0, 1, 1, 1, 1, 1, 1, 1, 1, 1, 1, 0, 1, 1, 1, 1,\n",
       "       1, 1, 1, 0, 1, 0, 1, 1, 0, 1, 1, 1, 1, 1, 0, 0, 1, 0, 1, 0, 1, 1,\n",
       "       1, 1, 1, 0, 1, 1, 0, 1, 0, 1, 0, 0, 1, 1, 1, 0, 1, 1, 1, 1, 1, 1,\n",
       "       1, 1, 1, 1, 1, 0, 1, 0, 0, 1, 1, 1, 1, 1, 1, 1, 1, 1, 1, 1, 1, 1,\n",
       "       1, 1, 1, 1, 1, 1, 1, 1, 1, 1, 1, 1, 0, 0, 0, 0, 0, 0, 1])"
      ]
     },
     "execution_count": 10,
     "metadata": {},
     "output_type": "execute_result"
    }
   ],
   "source": [
    "y"
   ]
  },
  {
   "cell_type": "code",
   "execution_count": 11,
   "metadata": {},
   "outputs": [
    {
     "data": {
      "text/plain": [
       "array(['malignant', 'benign'], dtype='<U9')"
      ]
     },
     "execution_count": 11,
     "metadata": {},
     "output_type": "execute_result"
    }
   ],
   "source": [
    "cancer.target_names"
   ]
  },
  {
   "cell_type": "code",
   "execution_count": 12,
   "metadata": {},
   "outputs": [
    {
     "data": {
      "text/plain": [
       "(569, 30)"
      ]
     },
     "execution_count": 12,
     "metadata": {},
     "output_type": "execute_result"
    }
   ],
   "source": [
    "X.shape"
   ]
  },
  {
   "cell_type": "markdown",
   "metadata": {},
   "source": [
    "It is not possible for us to manually split our dataset also we need to split the dataset in a random manner. To help us with this task, we will be using a SciKit library named train_test_split. We will be using 80% of our dataset for training purposes and 20% for testing."
   ]
  },
  {
   "cell_type": "code",
   "execution_count": 18,
   "metadata": {},
   "outputs": [],
   "source": [
    "X_train, X_test, y_train, y_test = train_test_split(X, y, test_size = 0.2, random_state = 0, stratify = y)"
   ]
  },
  {
   "cell_type": "code",
   "execution_count": 19,
   "metadata": {},
   "outputs": [
    {
     "data": {
      "text/plain": [
       "(455, 30)"
      ]
     },
     "execution_count": 19,
     "metadata": {},
     "output_type": "execute_result"
    }
   ],
   "source": [
    "X_train.shape"
   ]
  },
  {
   "cell_type": "code",
   "execution_count": 20,
   "metadata": {},
   "outputs": [
    {
     "data": {
      "text/plain": [
       "(114, 30)"
      ]
     },
     "execution_count": 20,
     "metadata": {},
     "output_type": "execute_result"
    }
   ],
   "source": [
    "X_test.shape"
   ]
  },
  {
   "cell_type": "markdown",
   "metadata": {},
   "source": [
    "StandardScaler removes the mean and scales the data to unit variance."
   ]
  },
  {
   "cell_type": "code",
   "execution_count": 21,
   "metadata": {},
   "outputs": [],
   "source": [
    "scaler = StandardScaler()\n",
    "X_train = scaler.fit_transform(X_train)\n",
    "X_test = scaler.transform(X_test)"
   ]
  },
  {
   "cell_type": "code",
   "execution_count": 22,
   "metadata": {},
   "outputs": [],
   "source": [
    "X_train = X_train.reshape(455,30,1)\n",
    "X_test = X_test.reshape(114, 30, 1)\n"
   ]
  },
  {
   "cell_type": "markdown",
   "metadata": {},
   "source": [
    "Now, Let’s go ahead and build our CNN model"
   ]
  },
  {
   "cell_type": "code",
   "execution_count": 23,
   "metadata": {},
   "outputs": [],
   "source": [
    "epochs = 50\n",
    "model = Sequential()\n",
    "model.add(Conv1D(filters=32, kernel_size=2, activation='relu', input_shape = (30,1)))\n",
    "model.add(BatchNormalization())\n",
    "model.add(Dropout(0.2))\n",
    "\n",
    "model.add(Conv1D(filters=64, kernel_size=2, activation='relu'))\n",
    "model.add(BatchNormalization())\n",
    "model.add(Dropout(0.5))\n",
    "\n",
    "model.add(Flatten())\n",
    "model.add(Dense(64, activation='relu'))\n",
    "model.add(Dropout(0.5))\n",
    "\n",
    "model.add(Dense(1, activation='sigmoid'))"
   ]
  },
  {
   "cell_type": "code",
   "execution_count": 24,
   "metadata": {},
   "outputs": [
    {
     "name": "stdout",
     "output_type": "stream",
     "text": [
      "Model: \"sequential\"\n",
      "_________________________________________________________________\n",
      "Layer (type)                 Output Shape              Param #   \n",
      "=================================================================\n",
      "conv1d (Conv1D)              (None, 29, 32)            96        \n",
      "_________________________________________________________________\n",
      "batch_normalization (BatchNo (None, 29, 32)            128       \n",
      "_________________________________________________________________\n",
      "dropout (Dropout)            (None, 29, 32)            0         \n",
      "_________________________________________________________________\n",
      "conv1d_1 (Conv1D)            (None, 28, 64)            4160      \n",
      "_________________________________________________________________\n",
      "batch_normalization_1 (Batch (None, 28, 64)            256       \n",
      "_________________________________________________________________\n",
      "dropout_1 (Dropout)          (None, 28, 64)            0         \n",
      "_________________________________________________________________\n",
      "flatten (Flatten)            (None, 1792)              0         \n",
      "_________________________________________________________________\n",
      "dense (Dense)                (None, 64)                114752    \n",
      "_________________________________________________________________\n",
      "dropout_2 (Dropout)          (None, 64)                0         \n",
      "_________________________________________________________________\n",
      "dense_1 (Dense)              (None, 1)                 65        \n",
      "=================================================================\n",
      "Total params: 119,457\n",
      "Trainable params: 119,265\n",
      "Non-trainable params: 192\n",
      "_________________________________________________________________\n"
     ]
    }
   ],
   "source": [
    "model.summary()"
   ]
  },
  {
   "cell_type": "markdown",
   "metadata": {},
   "source": [
    "Compile defines the loss function, the optimizer, and the metrics. That’s all. It has nothing to do with the weights and you can compile a model as many times as you want without causing any problem to pretrained weights."
   ]
  },
  {
   "cell_type": "code",
   "execution_count": 25,
   "metadata": {},
   "outputs": [],
   "source": [
    "model.compile(optimizer=Adam(lr=0.00005), loss = 'binary_crossentropy', metrics=['accuracy'])\n"
   ]
  },
  {
   "cell_type": "markdown",
   "metadata": {},
   "source": [
    "Trains the model for a fixed number of epochs (iterations on a dataset)."
   ]
  },
  {
   "cell_type": "code",
   "execution_count": 26,
   "metadata": {},
   "outputs": [
    {
     "name": "stdout",
     "output_type": "stream",
     "text": [
      "Epoch 1/50\n",
      "15/15 [==============================] - 0s 17ms/step - loss: 0.8903 - accuracy: 0.6549 - val_loss: 0.6557 - val_accuracy: 0.8684\n",
      "Epoch 2/50\n",
      "15/15 [==============================] - 0s 7ms/step - loss: 0.5745 - accuracy: 0.7165 - val_loss: 0.6235 - val_accuracy: 0.9035\n",
      "Epoch 3/50\n",
      "15/15 [==============================] - 0s 7ms/step - loss: 0.4732 - accuracy: 0.7934 - val_loss: 0.5940 - val_accuracy: 0.9035\n",
      "Epoch 4/50\n",
      "15/15 [==============================] - 0s 6ms/step - loss: 0.3622 - accuracy: 0.8440 - val_loss: 0.5635 - val_accuracy: 0.9035\n",
      "Epoch 5/50\n",
      "15/15 [==============================] - 0s 5ms/step - loss: 0.3454 - accuracy: 0.8484 - val_loss: 0.5346 - val_accuracy: 0.9035\n",
      "Epoch 6/50\n",
      "15/15 [==============================] - 0s 6ms/step - loss: 0.3353 - accuracy: 0.8659 - val_loss: 0.5066 - val_accuracy: 0.8947\n",
      "Epoch 7/50\n",
      "15/15 [==============================] - 0s 6ms/step - loss: 0.2575 - accuracy: 0.9033 - val_loss: 0.4813 - val_accuracy: 0.9035\n",
      "Epoch 8/50\n",
      "15/15 [==============================] - 0s 5ms/step - loss: 0.2520 - accuracy: 0.9033 - val_loss: 0.4540 - val_accuracy: 0.9123\n",
      "Epoch 9/50\n",
      "15/15 [==============================] - 0s 8ms/step - loss: 0.2499 - accuracy: 0.8835 - val_loss: 0.4278 - val_accuracy: 0.9123\n",
      "Epoch 10/50\n",
      "15/15 [==============================] - 0s 6ms/step - loss: 0.2222 - accuracy: 0.9143 - val_loss: 0.4008 - val_accuracy: 0.9211\n",
      "Epoch 11/50\n",
      "15/15 [==============================] - 0s 5ms/step - loss: 0.2129 - accuracy: 0.9055 - val_loss: 0.3748 - val_accuracy: 0.9211\n",
      "Epoch 12/50\n",
      "15/15 [==============================] - 0s 5ms/step - loss: 0.2202 - accuracy: 0.9165 - val_loss: 0.3509 - val_accuracy: 0.9211\n",
      "Epoch 13/50\n",
      "15/15 [==============================] - 0s 5ms/step - loss: 0.2141 - accuracy: 0.9099 - val_loss: 0.3268 - val_accuracy: 0.9298\n",
      "Epoch 14/50\n",
      "15/15 [==============================] - 0s 5ms/step - loss: 0.2092 - accuracy: 0.9209 - val_loss: 0.3043 - val_accuracy: 0.9474\n",
      "Epoch 15/50\n",
      "15/15 [==============================] - 0s 5ms/step - loss: 0.1734 - accuracy: 0.9253 - val_loss: 0.2822 - val_accuracy: 0.9474\n",
      "Epoch 16/50\n",
      "15/15 [==============================] - 0s 7ms/step - loss: 0.1799 - accuracy: 0.9319 - val_loss: 0.2634 - val_accuracy: 0.9474\n",
      "Epoch 17/50\n",
      "15/15 [==============================] - 0s 5ms/step - loss: 0.1464 - accuracy: 0.9495 - val_loss: 0.2483 - val_accuracy: 0.9474\n",
      "Epoch 18/50\n",
      "15/15 [==============================] - 0s 5ms/step - loss: 0.2012 - accuracy: 0.9099 - val_loss: 0.2262 - val_accuracy: 0.9561\n",
      "Epoch 19/50\n",
      "15/15 [==============================] - 0s 5ms/step - loss: 0.1630 - accuracy: 0.9385 - val_loss: 0.2083 - val_accuracy: 0.9474\n",
      "Epoch 20/50\n",
      "15/15 [==============================] - 0s 7ms/step - loss: 0.1486 - accuracy: 0.9429 - val_loss: 0.1942 - val_accuracy: 0.9474\n",
      "Epoch 21/50\n",
      "15/15 [==============================] - 0s 7ms/step - loss: 0.1333 - accuracy: 0.9516 - val_loss: 0.1833 - val_accuracy: 0.9474\n",
      "Epoch 22/50\n",
      "15/15 [==============================] - 0s 7ms/step - loss: 0.1236 - accuracy: 0.9626 - val_loss: 0.1748 - val_accuracy: 0.9474\n",
      "Epoch 23/50\n",
      "15/15 [==============================] - 0s 6ms/step - loss: 0.1422 - accuracy: 0.9516 - val_loss: 0.1629 - val_accuracy: 0.9474\n",
      "Epoch 24/50\n",
      "15/15 [==============================] - 0s 6ms/step - loss: 0.1765 - accuracy: 0.9363 - val_loss: 0.1533 - val_accuracy: 0.9474\n",
      "Epoch 25/50\n",
      "15/15 [==============================] - 0s 5ms/step - loss: 0.1424 - accuracy: 0.9516 - val_loss: 0.1434 - val_accuracy: 0.9474\n",
      "Epoch 26/50\n",
      "15/15 [==============================] - 0s 7ms/step - loss: 0.1299 - accuracy: 0.9495 - val_loss: 0.1368 - val_accuracy: 0.9474\n",
      "Epoch 27/50\n",
      "15/15 [==============================] - 0s 5ms/step - loss: 0.1389 - accuracy: 0.9319 - val_loss: 0.1316 - val_accuracy: 0.9474\n",
      "Epoch 28/50\n",
      "15/15 [==============================] - 0s 5ms/step - loss: 0.1547 - accuracy: 0.9429 - val_loss: 0.1259 - val_accuracy: 0.9474\n",
      "Epoch 29/50\n",
      "15/15 [==============================] - 0s 5ms/step - loss: 0.1273 - accuracy: 0.9538 - val_loss: 0.1221 - val_accuracy: 0.9474\n",
      "Epoch 30/50\n",
      "15/15 [==============================] - 0s 6ms/step - loss: 0.1202 - accuracy: 0.9473 - val_loss: 0.1218 - val_accuracy: 0.9474\n",
      "Epoch 31/50\n",
      "15/15 [==============================] - 0s 5ms/step - loss: 0.1183 - accuracy: 0.9538 - val_loss: 0.1200 - val_accuracy: 0.9561\n",
      "Epoch 32/50\n",
      "15/15 [==============================] - 0s 5ms/step - loss: 0.1269 - accuracy: 0.9560 - val_loss: 0.1180 - val_accuracy: 0.9561\n",
      "Epoch 33/50\n",
      "15/15 [==============================] - 0s 5ms/step - loss: 0.1156 - accuracy: 0.9538 - val_loss: 0.1157 - val_accuracy: 0.9561\n",
      "Epoch 34/50\n",
      "15/15 [==============================] - 0s 5ms/step - loss: 0.1135 - accuracy: 0.9516 - val_loss: 0.1163 - val_accuracy: 0.9561\n",
      "Epoch 35/50\n",
      "15/15 [==============================] - 0s 5ms/step - loss: 0.1189 - accuracy: 0.9473 - val_loss: 0.1142 - val_accuracy: 0.9649\n",
      "Epoch 36/50\n",
      "15/15 [==============================] - 0s 7ms/step - loss: 0.1150 - accuracy: 0.9538 - val_loss: 0.1107 - val_accuracy: 0.9649\n",
      "Epoch 37/50\n",
      "15/15 [==============================] - 0s 5ms/step - loss: 0.0998 - accuracy: 0.9582 - val_loss: 0.1070 - val_accuracy: 0.9649\n",
      "Epoch 38/50\n",
      "15/15 [==============================] - 0s 6ms/step - loss: 0.1197 - accuracy: 0.9516 - val_loss: 0.1025 - val_accuracy: 0.9737\n",
      "Epoch 39/50\n",
      "15/15 [==============================] - 0s 5ms/step - loss: 0.1095 - accuracy: 0.9560 - val_loss: 0.1002 - val_accuracy: 0.9649\n",
      "Epoch 40/50\n",
      "15/15 [==============================] - 0s 5ms/step - loss: 0.1038 - accuracy: 0.9495 - val_loss: 0.0999 - val_accuracy: 0.9649\n",
      "Epoch 41/50\n",
      "15/15 [==============================] - 0s 5ms/step - loss: 0.1115 - accuracy: 0.9626 - val_loss: 0.0990 - val_accuracy: 0.9649\n",
      "Epoch 42/50\n",
      "15/15 [==============================] - 0s 5ms/step - loss: 0.1748 - accuracy: 0.9429 - val_loss: 0.0986 - val_accuracy: 0.9649\n",
      "Epoch 43/50\n",
      "15/15 [==============================] - 0s 5ms/step - loss: 0.1123 - accuracy: 0.9626 - val_loss: 0.0977 - val_accuracy: 0.9649\n",
      "Epoch 44/50\n",
      "15/15 [==============================] - 0s 5ms/step - loss: 0.1122 - accuracy: 0.9538 - val_loss: 0.0969 - val_accuracy: 0.9649\n",
      "Epoch 45/50\n",
      "15/15 [==============================] - 0s 5ms/step - loss: 0.1273 - accuracy: 0.9407 - val_loss: 0.0957 - val_accuracy: 0.9649\n",
      "Epoch 46/50\n",
      "15/15 [==============================] - 0s 5ms/step - loss: 0.1048 - accuracy: 0.9648 - val_loss: 0.0956 - val_accuracy: 0.9649\n",
      "Epoch 47/50\n",
      "15/15 [==============================] - 0s 5ms/step - loss: 0.0962 - accuracy: 0.9758 - val_loss: 0.0954 - val_accuracy: 0.9649\n",
      "Epoch 48/50\n",
      "15/15 [==============================] - 0s 7ms/step - loss: 0.0700 - accuracy: 0.9714 - val_loss: 0.0952 - val_accuracy: 0.9649\n",
      "Epoch 49/50\n",
      "15/15 [==============================] - 0s 5ms/step - loss: 0.1141 - accuracy: 0.9560 - val_loss: 0.0941 - val_accuracy: 0.9649\n",
      "Epoch 50/50\n",
      "15/15 [==============================] - 0s 5ms/step - loss: 0.0890 - accuracy: 0.9670 - val_loss: 0.0938 - val_accuracy: 0.9649\n"
     ]
    }
   ],
   "source": [
    "history = model.fit(X_train, y_train, epochs=epochs, validation_data=(X_test, y_test), verbose=1)"
   ]
  },
  {
   "cell_type": "code",
   "execution_count": 27,
   "metadata": {},
   "outputs": [],
   "source": [
    "def plot_learningCurve(history, epoch):\n",
    "  # Plot training & validation accuracy values\n",
    "  epoch_range = range(1, epoch+1)\n",
    "  plt.plot(epoch_range, history.history['accuracy'])\n",
    "  plt.plot(epoch_range, history.history['val_accuracy'])\n",
    "  plt.title('Model accuracy')\n",
    "  plt.ylabel('Accuracy')\n",
    "  plt.xlabel('Epoch')\n",
    "  plt.legend(['Train', 'Val'], loc='upper left')\n",
    "  plt.show()\n",
    "\n",
    "  # Plot training & validation loss values\n",
    "  plt.plot(epoch_range, history.history['loss'])\n",
    "  plt.plot(epoch_range, history.history['val_loss'])\n",
    "  plt.title('Model loss')\n",
    "  plt.ylabel('Loss')\n",
    "  plt.xlabel('Epoch')\n",
    "  plt.legend(['Train', 'Val'], loc='upper left')\n",
    "  plt.show()"
   ]
  },
  {
   "cell_type": "markdown",
   "metadata": {},
   "source": [
    "A history object that contains all information collected during training."
   ]
  },
  {
   "cell_type": "code",
   "execution_count": 29,
   "metadata": {},
   "outputs": [
    {
     "data": {
      "text/plain": [
       "{'loss': [0.8903173804283142,\n",
       "  0.5744959712028503,\n",
       "  0.4731552302837372,\n",
       "  0.36224570870399475,\n",
       "  0.3453613221645355,\n",
       "  0.3352645933628082,\n",
       "  0.2574780285358429,\n",
       "  0.2520189881324768,\n",
       "  0.24990259110927582,\n",
       "  0.22218291461467743,\n",
       "  0.21286022663116455,\n",
       "  0.22015823423862457,\n",
       "  0.21413347125053406,\n",
       "  0.2092328518629074,\n",
       "  0.1733608990907669,\n",
       "  0.17991946637630463,\n",
       "  0.14644575119018555,\n",
       "  0.2011909931898117,\n",
       "  0.1629750281572342,\n",
       "  0.14861051738262177,\n",
       "  0.1333097368478775,\n",
       "  0.12359700351953506,\n",
       "  0.1422170251607895,\n",
       "  0.17645379900932312,\n",
       "  0.14236436784267426,\n",
       "  0.129944309592247,\n",
       "  0.13892918825149536,\n",
       "  0.1547395884990692,\n",
       "  0.12725046277046204,\n",
       "  0.12022141367197037,\n",
       "  0.11826559901237488,\n",
       "  0.12685102224349976,\n",
       "  0.11560265719890594,\n",
       "  0.11351191997528076,\n",
       "  0.11887823790311813,\n",
       "  0.11495213955640793,\n",
       "  0.09977980703115463,\n",
       "  0.1197466254234314,\n",
       "  0.10949075222015381,\n",
       "  0.10381598770618439,\n",
       "  0.1114775612950325,\n",
       "  0.17478857934474945,\n",
       "  0.11230777949094772,\n",
       "  0.11220181733369827,\n",
       "  0.1272570639848709,\n",
       "  0.10481993108987808,\n",
       "  0.09615541249513626,\n",
       "  0.07000268995761871,\n",
       "  0.11411584168672562,\n",
       "  0.0889933630824089],\n",
       " 'accuracy': [0.6549450755119324,\n",
       "  0.7164835333824158,\n",
       "  0.79340660572052,\n",
       "  0.8439560532569885,\n",
       "  0.8483516573905945,\n",
       "  0.8659340739250183,\n",
       "  0.903296709060669,\n",
       "  0.903296709060669,\n",
       "  0.8835164904594421,\n",
       "  0.9142857193946838,\n",
       "  0.9054945111274719,\n",
       "  0.9164835214614868,\n",
       "  0.9098901152610779,\n",
       "  0.9208791255950928,\n",
       "  0.9252747297286987,\n",
       "  0.9318681359291077,\n",
       "  0.9494505524635315,\n",
       "  0.9098901152610779,\n",
       "  0.9384615421295166,\n",
       "  0.9428571462631226,\n",
       "  0.9516483545303345,\n",
       "  0.9626373648643494,\n",
       "  0.9516483545303345,\n",
       "  0.9362637400627136,\n",
       "  0.9516483545303345,\n",
       "  0.9494505524635315,\n",
       "  0.9318681359291077,\n",
       "  0.9428571462631226,\n",
       "  0.9538461565971375,\n",
       "  0.9472527503967285,\n",
       "  0.9538461565971375,\n",
       "  0.9560439586639404,\n",
       "  0.9538461565971375,\n",
       "  0.9516483545303345,\n",
       "  0.9472527503967285,\n",
       "  0.9538461565971375,\n",
       "  0.9582417607307434,\n",
       "  0.9516483545303345,\n",
       "  0.9560439586639404,\n",
       "  0.9494505524635315,\n",
       "  0.9626373648643494,\n",
       "  0.9428571462631226,\n",
       "  0.9626373648643494,\n",
       "  0.9538461565971375,\n",
       "  0.9406593441963196,\n",
       "  0.9648351669311523,\n",
       "  0.9758241772651672,\n",
       "  0.9714285731315613,\n",
       "  0.9560439586639404,\n",
       "  0.9670329689979553],\n",
       " 'val_loss': [0.6557329297065735,\n",
       "  0.6234954595565796,\n",
       "  0.5940365195274353,\n",
       "  0.5635374784469604,\n",
       "  0.5345515608787537,\n",
       "  0.5065513253211975,\n",
       "  0.48130297660827637,\n",
       "  0.45396888256073,\n",
       "  0.42777955532073975,\n",
       "  0.40077918767929077,\n",
       "  0.3748306334018707,\n",
       "  0.3508826792240143,\n",
       "  0.3268468379974365,\n",
       "  0.3043214976787567,\n",
       "  0.28216835856437683,\n",
       "  0.26335710287094116,\n",
       "  0.24828609824180603,\n",
       "  0.22624245285987854,\n",
       "  0.20830191671848297,\n",
       "  0.19421817362308502,\n",
       "  0.18332889676094055,\n",
       "  0.17479585111141205,\n",
       "  0.16291411221027374,\n",
       "  0.15329986810684204,\n",
       "  0.1433861404657364,\n",
       "  0.1368110626935959,\n",
       "  0.131638303399086,\n",
       "  0.12590977549552917,\n",
       "  0.12213034927845001,\n",
       "  0.12178923189640045,\n",
       "  0.11997383832931519,\n",
       "  0.11798557639122009,\n",
       "  0.11569514125585556,\n",
       "  0.1162542998790741,\n",
       "  0.1142081543803215,\n",
       "  0.11074474453926086,\n",
       "  0.10699556767940521,\n",
       "  0.10252884030342102,\n",
       "  0.10021653771400452,\n",
       "  0.09986183047294617,\n",
       "  0.09903094917535782,\n",
       "  0.09856616705656052,\n",
       "  0.09772873669862747,\n",
       "  0.09687734395265579,\n",
       "  0.09570116549730301,\n",
       "  0.09560709446668625,\n",
       "  0.095395028591156,\n",
       "  0.0951576679944992,\n",
       "  0.09408829361200333,\n",
       "  0.09379938244819641],\n",
       " 'val_accuracy': [0.8684210777282715,\n",
       "  0.9035087823867798,\n",
       "  0.9035087823867798,\n",
       "  0.9035087823867798,\n",
       "  0.9035087823867798,\n",
       "  0.8947368264198303,\n",
       "  0.9035087823867798,\n",
       "  0.9122806787490845,\n",
       "  0.9122806787490845,\n",
       "  0.9210526347160339,\n",
       "  0.9210526347160339,\n",
       "  0.9210526347160339,\n",
       "  0.9298245906829834,\n",
       "  0.9473684430122375,\n",
       "  0.9473684430122375,\n",
       "  0.9473684430122375,\n",
       "  0.9473684430122375,\n",
       "  0.9561403393745422,\n",
       "  0.9473684430122375,\n",
       "  0.9473684430122375,\n",
       "  0.9473684430122375,\n",
       "  0.9473684430122375,\n",
       "  0.9473684430122375,\n",
       "  0.9473684430122375,\n",
       "  0.9473684430122375,\n",
       "  0.9473684430122375,\n",
       "  0.9473684430122375,\n",
       "  0.9473684430122375,\n",
       "  0.9473684430122375,\n",
       "  0.9473684430122375,\n",
       "  0.9561403393745422,\n",
       "  0.9561403393745422,\n",
       "  0.9561403393745422,\n",
       "  0.9561403393745422,\n",
       "  0.9649122953414917,\n",
       "  0.9649122953414917,\n",
       "  0.9649122953414917,\n",
       "  0.9736841917037964,\n",
       "  0.9649122953414917,\n",
       "  0.9649122953414917,\n",
       "  0.9649122953414917,\n",
       "  0.9649122953414917,\n",
       "  0.9649122953414917,\n",
       "  0.9649122953414917,\n",
       "  0.9649122953414917,\n",
       "  0.9649122953414917,\n",
       "  0.9649122953414917,\n",
       "  0.9649122953414917,\n",
       "  0.9649122953414917,\n",
       "  0.9649122953414917]}"
      ]
     },
     "execution_count": 29,
     "metadata": {},
     "output_type": "execute_result"
    }
   ],
   "source": [
    "history.history"
   ]
  },
  {
   "cell_type": "code",
   "execution_count": 30,
   "metadata": {},
   "outputs": [
    {
     "data": {
      "image/png": "[encoded data removed]",
      "text/plain": [
       "<Figure size 432x288 with 1 Axes>"
      ]
     },
     "metadata": {
      "needs_background": "light"
     },
     "output_type": "display_data"
    },
    {
     "data": {
      "image/png": "[encoded data removed]",
      "text/plain": [
       "<Figure size 432x288 with 1 Axes>"
      ]
     },
     "metadata": {
      "needs_background": "light"
     },
     "output_type": "display_data"
    }
   ],
   "source": [
    "plot_learningCurve(history, epochs)"
   ]
  },
  {
   "cell_type": "markdown",
   "metadata": {},
   "source": [
    "In Model accuracy graph A validation accuracy is always greater than train accuracy thats means our model is not overfitting.\n",
    "\n",
    "In Model accuracy graph A validation loss is also very lower than training loss so unless and until validation loss goes above than the training loss than we can keep training our model.\n",
    "\n",
    "We have successfully created our program to detect breast cancer using Deep neural network. We are able to classify cancer effectively with our CNN technique."
   ]
  },
  {
   "cell_type": "code",
   "execution_count": null,
   "metadata": {},
   "outputs": [],
   "source": []
  }
 ],
 "metadata": {
  "kernelspec": {
   "display_name": "Python 3",
   "language": "python",
   "name": "python3"
  },
  "language_info": {
   "codemirror_mode": {
    "name": "ipython",
    "version": 3
   },
   "file_extension": ".py",
   "mimetype": "text/x-python",
   "name": "python",
   "nbconvert_exporter": "python",
   "pygments_lexer": "ipython3",
   "version": "3.7.6"
  }
 },
 "nbformat": 4,
 "nbformat_minor": 4
}
